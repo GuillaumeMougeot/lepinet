{
 "cells": [
  {
   "cell_type": "markdown",
   "id": "d63e339f",
   "metadata": {},
   "source": [
    "# AMI pipeline\n",
    "\n",
    "ERDA downloader\n",
    "\n",
    "flat-bug\n",
    "\n",
    "order classifier\n",
    "\n",
    "species classifier"
   ]
  },
  {
   "cell_type": "code",
   "execution_count": null,
   "id": "b39a9a0d",
   "metadata": {},
   "outputs": [],
   "source": [
    "import os\n",
    "import asyncio\n",
    "import asyncssh\n",
    "from asyncssh import SFTPClient, SFTPError\n",
    "from typing import TypedDict\n"
   ]
  },
  {
   "cell_type": "code",
   "execution_count": null,
   "id": "5800f0c7",
   "metadata": {},
   "outputs": [],
   "source": [
    "class AsyncSFTPParams(TypedDict):\n",
    "    host: str\n",
    "    port: int\n",
    "    username: str\n",
    "    password: str\n",
    "    client_keys: list[str]"
   ]
  },
  {
   "cell_type": "code",
   "execution_count": null,
   "id": "de3c5af9",
   "metadata": {},
   "outputs": [],
   "source": [
    "sftp_params=AsyncSFTPParams(\n",
    "        host=\"io.erda.au.dk\",\n",
    "        port=2222,\n",
    "        username=\"gmo@ecos.au.dk\",\n",
    "        client_keys=[\"~/.ssh/id_rsa\"])\n",
    "\n",
    "remotepaths = \"AMI/storage/mambo/2024/uva/NL1/2024_07_18\"\n",
    "localpath = \"/home/george/codes/lepinet/data/mambo/images\"\n",
    "\n",
    "async with asyncssh.connect(**sftp_params) as conn:\n",
    "    async with conn.start_sftp_client() as sftp:\n",
    "        sftp.get(remotepaths, localpath)"
   ]
  },
  {
   "cell_type": "code",
   "execution_count": null,
   "id": "fcd12f12",
   "metadata": {},
   "outputs": [],
   "source": [
    "class AMIPipeline:\n",
    "    def __init__(\n",
    "        self,\n",
    "        remote_dir: str,\n",
    "        local_dir: str,\n",
    "        max_queue_size: int = 16\n",
    "    ):\n",
    "        os.makedirs(local_dir, exist_ok=True)\n",
    "\n",
    "        # Queues for managing pipeline stages\n",
    "        self.download_queue = asyncio.Queue(maxsize=max_queue_size)\n",
    "\n",
    "        "
   ]
  }
 ],
 "metadata": {
  "kernelspec": {
   "display_name": "Python 3",
   "language": "python",
   "name": "python3"
  },
  "language_info": {
   "codemirror_mode": {
    "name": "ipython",
    "version": 3
   },
   "file_extension": ".py",
   "mimetype": "text/x-python",
   "name": "python",
   "nbconvert_exporter": "python",
   "pygments_lexer": "ipython3",
   "version": "3.12.9"
  }
 },
 "nbformat": 4,
 "nbformat_minor": 5
}

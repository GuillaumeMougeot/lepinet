{
 "cells": [
  {
   "cell_type": "code",
   "execution_count": 2,
   "metadata": {},
   "outputs": [],
   "source": [
    "import os\n",
    "import csv"
   ]
  },
  {
   "cell_type": "code",
   "execution_count": 15,
   "metadata": {},
   "outputs": [],
   "source": [
    "dir_path = \"/home/george/codes/lepinet/data/flemming/images\"\n",
    "csv_path = \"/home/george/codes/lepinet/data/flemming/names.csv\"\n",
    "nrm_path = \"/home/george/codes/lepinet/data/flemming/normalized.csv\""
   ]
  },
  {
   "cell_type": "markdown",
   "metadata": {},
   "source": [
    "Generate a csv with scientificNames"
   ]
  },
  {
   "cell_type": "code",
   "execution_count": 12,
   "metadata": {},
   "outputs": [],
   "source": [
    "dir_list = os.listdir(dir_path)\n",
    "d={\"scientificName\":dir_list, \"kingdom\":[\"Animalia\"]*len(dir_list)}"
   ]
  },
  {
   "cell_type": "code",
   "execution_count": null,
   "metadata": {},
   "outputs": [],
   "source": [
    "def dict2csv(d:dict, fname:str):\n",
    "    \"\"\"Save a dict of lists to csv. Headers are the dict keys.\n",
    "    \"\"\"\n",
    "    with open(fname, 'w', newline='') as f:\n",
    "        out = csv.writer(f)\n",
    "\n",
    "        # Remove None values in dict\n",
    "        dc = {k:v for k,v in d.items() if v is not None}\n",
    "\n",
    "        out.writerow(dc.keys())\n",
    "        out.writerows([*zip(*dc.values())])"
   ]
  },
  {
   "cell_type": "code",
   "execution_count": 14,
   "metadata": {},
   "outputs": [],
   "source": [
    "dict2csv(d, csv_path)"
   ]
  },
  {
   "cell_type": "markdown",
   "metadata": {},
   "source": [
    "Load the normalized table"
   ]
  },
  {
   "cell_type": "code",
   "execution_count": 36,
   "metadata": {},
   "outputs": [],
   "source": [
    "def csv2dict(fname:str, delimiter:str=',', missing=None):\n",
    "    \"\"\"\n",
    "    Reads a CSV file and converts it into a dictionary of lists.\n",
    "    The keys of the dictionary are the column headers, and the values are lists of column data.\n",
    "    \n",
    "    :param fname: Path to the CSV file.\n",
    "    :param delimiter: CSV delimiter (default is comma).\n",
    "    :param missing: Value for missing entries in CSV.\n",
    "    :return: Dictionary where keys are column names and values are lists of column data.\n",
    "    \"\"\"\n",
    "    with open(fname, mode='r', newline='', encoding='utf-8') as file:\n",
    "        reader = csv.reader(file, delimiter=delimiter)\n",
    "        data = list(reader)\n",
    "        \n",
    "        if not data:\n",
    "            return {}  # Return empty dict if file is empty\n",
    "        \n",
    "        headers, *rows = data\n",
    "        \n",
    "        # Ensure all rows have the same length as headers by filling missing values\n",
    "        max_len = len(headers)\n",
    "        rows = [row + [missing] * (max_len - len(row)) for row in rows]\n",
    "        \n",
    "        return {header: list(column) for header, column in zip(headers, zip(*rows))}"
   ]
  },
  {
   "cell_type": "code",
   "execution_count": 38,
   "metadata": {},
   "outputs": [],
   "source": [
    "nd=csv2dict(nrm_path)"
   ]
  },
  {
   "cell_type": "code",
   "execution_count": null,
   "metadata": {},
   "outputs": [],
   "source": []
  },
  {
   "cell_type": "code",
   "execution_count": null,
   "metadata": {},
   "outputs": [],
   "source": []
  }
 ],
 "metadata": {
  "kernelspec": {
   "display_name": "Python 3",
   "language": "python",
   "name": "python3"
  },
  "language_info": {
   "codemirror_mode": {
    "name": "ipython",
    "version": 3
   },
   "file_extension": ".py",
   "mimetype": "text/x-python",
   "name": "python",
   "nbconvert_exporter": "python",
   "pygments_lexer": "ipython3",
   "version": "3.12.9"
  }
 },
 "nbformat": 4,
 "nbformat_minor": 2
}

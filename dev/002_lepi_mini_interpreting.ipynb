{
 "cells": [
  {
   "cell_type": "markdown",
   "metadata": {},
   "source": [
    "# Prediction interpretation"
   ]
  },
  {
   "cell_type": "code",
   "execution_count": null,
   "metadata": {},
   "outputs": [],
   "source": [
    "import pandas as pd\n",
    "import numpy as np\n",
    "import matplotlib.pyplot as plt\n",
    "from pathlib import Path\n",
    "import os\n",
    "from PIL import Image\n",
    "from fastai.vision.all import *\n",
    "from pprint import pprint\n",
    "from inspect import getmembers, getmembers_static\n",
    "from sklearn.metrics import f1_score, precision_recall_curve, roc_auc_score\n",
    "import json"
   ]
  },
  {
   "cell_type": "code",
   "execution_count": null,
   "metadata": {},
   "outputs": [],
   "source": [
    "parquet_path=Path(\"/home/george/codes/lepinet/data/mini/0013397-241007104925546_processing_metadata_postprocessed.parquet\")\n",
    "images_path=Path(\"/home/george/codes/lepinet/data/mini/images\")\n",
    "root_path=Path(\"/home/george/codes/lepinet/data/mini\")\n",
    "export_path=Path(\"/home/george/codes/lepinet/data/mini/models\")\n",
    "ood_results=root_path/\"pred_ood_model1.csv\""
   ]
  },
  {
   "cell_type": "code",
   "execution_count": null,
   "metadata": {},
   "outputs": [],
   "source": [
    "# Load DataFrame\n",
    "df=pd.read_parquet(parquet_path)\n",
    "levels = {\n",
    "    \"speciesKey\":\"scientificName\",\n",
    "    \"genusKey\":\"genus\",\n",
    "    \"familyKey\":\"family\",\n",
    "}\n",
    "hierarchy_levels = list(reversed(levels.keys()))"
   ]
  },
  {
   "cell_type": "code",
   "execution_count": null,
   "metadata": {},
   "outputs": [],
   "source": [
    "df_res=pd.read_csv(ood_results)"
   ]
  },
  {
   "cell_type": "code",
   "execution_count": null,
   "metadata": {},
   "outputs": [],
   "source": [
    "df_res.head()"
   ]
  },
  {
   "cell_type": "code",
   "execution_count": null,
   "metadata": {},
   "outputs": [],
   "source": [
    "# Divide preds by level\n",
    "def level_divide(df, column):\n",
    "    return df.groupby(\"level\")[column].apply(list).to_dict()\n",
    "\n",
    "prds = level_divide(df_res, \"prediction\")\n",
    "lbls = level_divide(df_res, \"label\")\n",
    "cnfs = level_divide(df_res, \"confidence\")"
   ]
  },
  {
   "cell_type": "code",
   "execution_count": null,
   "metadata": {},
   "outputs": [],
   "source": [
    "for i in range(len(levels)):\n",
    "    prd = prds[i]\n",
    "    lbl = lbls[i]\n",
    "    cnf = cnfs[i]\n",
    "    f1=f1_score(y_true=lbl, y_pred=prd, average='macro')\n",
    "    roc=roc_auc_score(y_true=lbl, y_score=cnf, average='macro')\n",
    "    print(f1, roc)"
   ]
  },
  {
   "cell_type": "code",
   "execution_count": null,
   "metadata": {},
   "outputs": [],
   "source": []
  },
  {
   "cell_type": "code",
   "execution_count": null,
   "metadata": {},
   "outputs": [],
   "source": [
    "precision_recall_curve(\n",
    "    y_true=df_res[]\n",
    ")"
   ]
  }
 ],
 "metadata": {
  "kernelspec": {
   "display_name": "Python 3",
   "language": "python",
   "name": "python3"
  },
  "language_info": {
   "codemirror_mode": {
    "name": "ipython",
    "version": 3
   },
   "file_extension": ".py",
   "mimetype": "text/x-python",
   "name": "python",
   "nbconvert_exporter": "python",
   "pygments_lexer": "ipython3",
   "version": "3.12.9"
  }
 },
 "nbformat": 4,
 "nbformat_minor": 2
}
